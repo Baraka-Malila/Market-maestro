{
 "cells": [
  {
   "cell_type": "code",
   "execution_count": null,
   "id": "5e223da2-11fc-486b-b22c-7e2a1055a5b2",
   "metadata": {},
   "outputs": [],
   "source": []
  }
 ],
 "metadata": {
  "kernelspec": {
   "display_name": "Market Maestro",
   "language": "python",
   "name": "market_maestro"
  },
  "language_info": {
   "codemirror_mode": {
    "name": "ipython",
    "version": 3
   },
   "file_extension": ".py",
   "mimetype": "text/x-python",
   "name": "python",
   "nbconvert_exporter": "python",
   "pygments_lexer": "ipython3",
   "version": "3.10.13"
  }
 },
 "nbformat": 4,
 "nbformat_minor": 5
}
