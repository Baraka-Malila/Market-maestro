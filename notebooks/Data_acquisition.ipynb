{
 "cells": [
  {
   "cell_type": "code",
   "execution_count": 1,
   "id": "639609b0-14a5-407c-a2ec-780137e4cbdb",
   "metadata": {},
   "outputs": [],
   "source": [
    "#importing all the necessary libraries"
   ]
  },
  {
   "cell_type": "code",
   "execution_count": 2,
   "id": "69d2f72d-4a26-4a4d-b944-c37d78c6499a",
   "metadata": {},
   "outputs": [],
   "source": [
    "import yfinance as yf\n",
    "import pandas as pd\n",
    "from newsapi import NewsApiClient"
   ]
  },
  {
   "cell_type": "code",
   "execution_count": 3,
   "id": "09bf5858-11a7-44ae-a984-26a4540965ab",
   "metadata": {},
   "outputs": [],
   "source": [
    "#initializing the news API client"
   ]
  },
  {
   "cell_type": "code",
   "execution_count": 4,
   "id": "3034c947-f579-4360-ba51-62de3ec279a1",
   "metadata": {},
   "outputs": [],
   "source": [
    "newsapi = NewsApiClient(api_key='ad131f0e6a2045428fdac63ee288e9a5')  "
   ]
  },
  {
   "cell_type": "code",
   "execution_count": null,
   "id": "0eb8e226-e388-49a5-a296-a0370948e536",
   "metadata": {},
   "outputs": [],
   "source": []
  }
 ],
 "metadata": {
  "kernelspec": {
   "display_name": "Market Maestro",
   "language": "python",
   "name": "market_maestro"
  },
  "language_info": {
   "codemirror_mode": {
    "name": "ipython",
    "version": 3
   },
   "file_extension": ".py",
   "mimetype": "text/x-python",
   "name": "python",
   "nbconvert_exporter": "python",
   "pygments_lexer": "ipython3",
   "version": "3.10.13"
  }
 },
 "nbformat": 4,
 "nbformat_minor": 5
}
