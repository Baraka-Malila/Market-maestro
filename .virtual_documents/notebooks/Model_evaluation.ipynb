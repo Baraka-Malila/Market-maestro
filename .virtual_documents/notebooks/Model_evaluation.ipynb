#Importing necessary libraries
import numpy as np
from tensorflow.keras.models import load_model
from sklearn.metrics import accuracy_score, classification_report



