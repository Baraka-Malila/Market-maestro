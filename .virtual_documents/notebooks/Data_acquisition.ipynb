#import yfinance as yf
#import pandas as pd
#from newsapi import NewsApiClient
#initializing the news API client
#newsapi = NewsApiClient(api_key='')  


#importing necessary libraries


import pandas as pd
import numpy as np
import matplotlib.pyplot as plt
import seaborn as sns


#Loading the dataset


file_path = 'D:\\ML PROJECTS\\Market_maestro\\datasets\\Sentiment_analysis_data\\data.csv'  # Update with the actual file path
data = pd.read_csv(file_path, header=None, encoding='ISO-8859-1')


# Assign column names
data.columns = ['Sentiment', 'News_Headline']


#DATA VISUALIZATION AND EXPLORATION 


# Basic statistics
data.describe()


#having a few duplicates can provide more examples for the model,
#which can help it learn better,
#especially if the sentiment is balanced.
#syntax to remove the duplicates
#data = data.drop_duplicates()


data.head(10)


data.tail(10)


# Assign shape of the dataset
data_shape = data.shape

# Check for missing values
missing_values = data.isnull().sum()

# Display the shape and missing values
data_shape, missing_values


# sentiments distribution
sentiment_distribution = data['Sentiment'].value_counts()

# Display the distribution
sentiment_distribution


# Display the first few news headlines
headlines_sample = data['News_Headline'].sample(5, random_state=1)
headlines_sample


#sentiment distribution
plt.figure(figsize=(10, 6))
sns.countplot(data=data, x='Sentiment', hue='Sentiment', palette='Set2', dodge=False, legend=False)  # Setting 'hue' and disabling the legend
plt.title('Sentiment Distribution')
plt.xlabel('Sentiment')
plt.ylabel('Count')
plt.show()


#How long the newshead line are by number of words
# Plot the distribution of word counts without creating a new column
plt.figure(figsize=(10, 6))
word_counts = data['News_Headline'].apply(lambda x: len(str(x).split()))  # Calculate word count for each news headline
plt.hist(word_counts, bins=30, color='skyblue', edgecolor='black')
plt.title('Distribution of Word Count in News Headlines')
plt.xlabel('Number of Words')
plt.ylabel('Frequency')
plt.show()


#Word Cloud of Headlines
#the higher the frequency the bigger the worg is presented in the wordcloud 
from wordcloud import WordCloud

from wordcloud import WordCloud
import matplotlib.pyplot as plt

# Combine all headlines into a single string
text = ' '.join(data['News_Headline'].astype(str))  # Convert to string and join

# Create a word cloud of the headlines with a custom colormap
wordcloud = WordCloud(width=800, height=400, background_color='white', colormap='viridis', max_words=200).generate(text)

# Display the word cloud
plt.figure(figsize=(10, 6))
plt.imshow(wordcloud, interpolation='bilinear')
plt.axis('off')  # Turn off axis
plt.title('Word Cloud of News Headlines', fontsize=20)
plt.show()


# Same word cloud of the headlines with a circular shape
wordcloud = WordCloud(width=800, height=400, background_color='black', colormap='plasma', max_words=200, contour_color='white', contour_width=1).generate(text)

# Display the word cloud
plt.figure(figsize=(10, 6))
plt.imshow(wordcloud, interpolation='bilinear')
plt.axis('off')  # Turn off axis
plt.title('Word Cloud of News Headlines', fontsize=20)
plt.show()


# Boxplot of word count by sentiment with distinct colors
import seaborn as sns
import matplotlib.pyplot as plt

# Define a custom color palette
custom_palette = {
    'positive': 'lightgreen',
    'neutral': 'lightblue',
    'negative': 'lightcoral'
}

# Boxplot of word count by sentiment without creating a new column
plt.figure(figsize=(10, 6))
sns.boxplot(
    x='Sentiment',
    y=data['News_Headline'].apply(lambda x: len(str(x).split())),  # Calculate word count on the fly
    hue='Sentiment',  # Assign the sentiment column to hue
    data=data,
    palette=custom_palette,
    legend=False  # Disable the legend
)
plt.title('Word Count Distribution by Sentiment')
plt.xlabel('Sentiment')
plt.ylabel('Word Count')
plt.show()


"""
# Visualization Report

## Objective
This visualization shows how the word count of news headlines varies by sentiment (positive, negative, neutral). The goal is to see if longer headlines are linked to certain sentiments.

## Description of the Data
The dataset contains news headlines and their sentiment labels. Each headline is marked as positive, negative, or neutral, indicating its tone.

## Key Observations
- Positive headlines generally have more words than negative and neutral ones.
- There are some very long negative headlines that stand out as outliers.
- Neutral headlines are usually shorter and more similar in length.

## Insights Gained
The results suggest that positive news often needs more words to explain the story, while neutral news tends to be shorter and to the point. The longer negative headlines may indicate more complex stories.

## Next Steps
Next, I plan to:
- Create word clouds for each sentiment type to see common words.
- Perform some statistical tests to compare word counts.
- Look for connections between sentiment and other factors in the data.

This will help me understand more about how news is reported and what it means for sentiment analysis.
"""
