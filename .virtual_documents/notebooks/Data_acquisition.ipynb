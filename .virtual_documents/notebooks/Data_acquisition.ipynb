#importing all the necessary libraries


import yfinance as yf
import pandas as pd
from newsapi import NewsApiClient


#initializing the news API client


newsapi = NewsApiClient(api_key='ad131f0e6a2045428fdac63ee288e9a5')  



